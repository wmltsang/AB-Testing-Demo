{
 "cells": [
  {
   "cell_type": "code",
   "execution_count": 1,
   "id": "da88c5b5",
   "metadata": {},
   "outputs": [],
   "source": [
    "import numpy as np\n",
    "import pandas as pd\n",
    "from scipy import stats"
   ]
  },
  {
   "cell_type": "code",
   "execution_count": 2,
   "id": "006a27c1",
   "metadata": {},
   "outputs": [],
   "source": [
    "# Simulated dataset\n",
    "np.random.seed(42)"
   ]
  },
  {
   "cell_type": "code",
   "execution_count": 3,
   "id": "fe9f1573",
   "metadata": {},
   "outputs": [],
   "source": [
    "# Group A (control group) - candidates who followed the standard interview preparation\n",
    "group_a = np.random.binomial(1, 0.55, size=100)  # 55% success rate, 100 candidates"
   ]
  },
  {
   "cell_type": "code",
   "execution_count": 4,
   "id": "d77e3980",
   "metadata": {},
   "outputs": [],
   "source": [
    "# Group B (treatment group) - candidates who followed a new interview prep strategy\n",
    "group_b = np.random.binomial(1, 0.65, size=100)  # 65% success rate, 100 candidates"
   ]
  },
  {
   "cell_type": "code",
   "execution_count": 6,
   "id": "f3cba4b3",
   "metadata": {},
   "outputs": [],
   "source": [
    "# Create a DataFrame\n",
    "data = pd.DataFrame({\n",
    "    'group': ['A'] * len(group_a) + ['B'] * len(group_b),\n",
    "    'success': np.concatenate([group_a, group_b])\n",
    "})"
   ]
  },
  {
   "cell_type": "code",
   "execution_count": 7,
   "id": "84084e37",
   "metadata": {},
   "outputs": [
    {
     "name": "stdout",
     "output_type": "stream",
     "text": [
      "Success rate for Group A: 0.59\n",
      "Success rate for Group B: 0.66\n"
     ]
    }
   ],
   "source": [
    "# Compute success rates for both groups\n",
    "success_rate_a = data[data['group'] == 'A']['success'].mean()\n",
    "success_rate_b = data[data['group'] == 'B']['success'].mean()\n",
    "\n",
    "print(f\"Success rate for Group A: {success_rate_a:.2f}\")\n",
    "print(f\"Success rate for Group B: {success_rate_b:.2f}\")"
   ]
  },
  {
   "cell_type": "code",
   "execution_count": 8,
   "id": "dbec5c49",
   "metadata": {},
   "outputs": [
    {
     "name": "stdout",
     "output_type": "stream",
     "text": [
      "T-statistic: -1.02\n",
      "P-value: 0.3090\n"
     ]
    }
   ],
   "source": [
    "# Perform a t-test to see if the difference is statistically significant\n",
    "t_stat, p_value = stats.ttest_ind(data[data['group'] == 'A']['success'], data[data['group'] == 'B']['success'])\n",
    "\n",
    "print(f\"T-statistic: {t_stat:.2f}\")\n",
    "print(f\"P-value: {p_value:.4f}\")"
   ]
  },
  {
   "cell_type": "code",
   "execution_count": 9,
   "id": "98922a36",
   "metadata": {},
   "outputs": [
    {
     "name": "stdout",
     "output_type": "stream",
     "text": [
      "We fail to reject the null hypothesis, no significant difference between the two groups.\n"
     ]
    }
   ],
   "source": [
    "# Interpretation of p-value\n",
    "alpha = 0.05\n",
    "if p_value < alpha:\n",
    "    print(\"We reject the null hypothesis, there's a significant difference between the two groups.\")\n",
    "else:\n",
    "    print(\"We fail to reject the null hypothesis, no significant difference between the two groups.\")"
   ]
  }
 ],
 "metadata": {
  "kernelspec": {
   "display_name": "Python 3 (ipykernel)",
   "language": "python",
   "name": "python3"
  },
  "language_info": {
   "codemirror_mode": {
    "name": "ipython",
    "version": 3
   },
   "file_extension": ".py",
   "mimetype": "text/x-python",
   "name": "python",
   "nbconvert_exporter": "python",
   "pygments_lexer": "ipython3",
   "version": "3.9.7"
  }
 },
 "nbformat": 4,
 "nbformat_minor": 5
}
